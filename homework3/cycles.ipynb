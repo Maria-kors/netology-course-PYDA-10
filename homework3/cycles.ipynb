{
 "cells": [
  {
   "cell_type": "code",
   "execution_count": 9,
   "metadata": {},
   "outputs": [
    {
     "name": "stdout",
     "output_type": "stream",
     "text": [
      "Введите слово: track\n",
      "a\n"
     ]
    }
   ],
   "source": [
    "word = list(input('Введите слово: '))\n",
    "if len(word) % 2 == 0:\n",
    "    print (word[len(word)//2-1], word[len(word)//2])\n",
    "else:\n",
    "    print (word[len(word)//2])"
   ]
  },
  {
   "cell_type": "code",
   "execution_count": 13,
   "metadata": {},
   "outputs": [
    {
     "name": "stdout",
     "output_type": "stream",
     "text": [
      "Идеальные пары: \n",
      "Alex и Emma\n",
      "Arthur и Kate\n",
      "John и Kira\n",
      "Peter и Liza\n",
      "Richard и Trisha\n"
     ]
    }
   ],
   "source": [
    "boys = ['Peter', 'Alex', 'John', 'Arthur', 'Richard']\n",
    "girls = ['Kate', 'Liza', 'Kira', 'Emma', 'Trisha']\n",
    "if len(boys) != len(girls):\n",
    "    print('Кто-то может остаться без пары!')\n",
    "else:\n",
    "    print('Идеальные пары: ')\n",
    "    for b, g in zip(sorted(boys), sorted(girls)):\n",
    "        print (b, 'и', g)"
   ]
  },
  {
   "cell_type": "code",
   "execution_count": 80,
   "metadata": {},
   "outputs": [
    {
     "name": "stdout",
     "output_type": "stream",
     "text": [
      "39.09523809523809\n",
      "28.952380952380945\n",
      "18.952380952380953\n",
      "27.095238095238095\n"
     ]
    }
   ],
   "source": [
    "countries_temperature = [\n",
    " ['Thailand', [75.2, 77, 78.8, 73.4, 68, 75.2, 77]],\n",
    " ['Germany', [57.2, 55.4, 59, 59, 53.6, 55.4, 57.2]],\n",
    " ['Russia', [35.6, 37.4, 39.2, 41, 42.8, 39.2, 35.6]],\n",
    " ['Poland', [50, 50, 53.6, 57.2, 55.4, 55.4, 51.8]],\n",
    "]\n",
    "index = 0 \n",
    "average_temp_far = 0 \n",
    "while index < len(countries_temperature):\n",
    "    for temp in countries_temperature[index][1]: \n",
    "            average_temp_far += temp\n",
    "    print((average_temp_far - 32)/1.8/7)\n",
    "    index +=1\n",
    "    average_temp_far = 0"
   ]
  },
  {
   "cell_type": "code",
   "execution_count": 1,
   "metadata": {},
   "outputs": [
    {
     "name": "stdout",
     "output_type": "stream",
     "text": [
      "23.25\n"
     ]
    }
   ],
   "source": [
    "stream = [\n",
    "    '2018-01-01,user1,3',\n",
    "    '2018-01-07,user1,4',\n",
    "    '2018-03-29,user1,1',\n",
    "    '2018-04-04,user1,13',\n",
    "    '2018-01-05,user2,7',\n",
    "    '2018-06-14,user3,4',\n",
    "    '2018-07-02,user3,10',\n",
    "    '2018-03-21,user4,19',\n",
    "    '2018-03-22,user4,4',\n",
    "    '2018-04-22,user4,8',\n",
    "    '2018-05-03,user4,9',\n",
    "    '2018-05-11,user4,11',\n",
    "]\n",
    "index = 0\n",
    "views = 0\n",
    "first_user = stream[0].split(',')[-2]\n",
    "unique_users = 1\n",
    "while index < len(stream): \n",
    "    new_stream = stream[index].split(',')\n",
    "    views += int(new_stream[-1])\n",
    "    if new_stream[-2] != first_user:\n",
    "        unique_users +=1\n",
    "        first_user = new_stream[-2]\n",
    "    index +=1\n",
    "average_views = views / unique_users\n",
    "print(average_views)"
   ]
  },
  {
   "cell_type": "code",
   "execution_count": 109,
   "metadata": {},
   "outputs": [
    {
     "name": "stdout",
     "output_type": "stream",
     "text": [
      "Введите дату: 2018-01-03\n",
      "Введите название кампании: google\n",
      "1843\n"
     ]
    }
   ],
   "source": [
    "stats = [\n",
    "    ['2018-01-01', 'google', 25],\n",
    "    ['2018-01-01', 'yandex', 65],\n",
    "    ['2018-01-01', 'market', 89],\n",
    "    ['2018-01-02', 'google', 574],\n",
    "    ['2018-01-02', 'yandex', 249],\n",
    "    ['2018-01-02', 'market', 994],\n",
    "    ['2018-01-03', 'google', 1843],\n",
    "    ['2018-01-03', 'yandex', 1327],\n",
    "    ['2018-01-03', 'market', 1764],\n",
    "]\n",
    "date = str(input('Введите дату: '))\n",
    "campaign = str(input('Введите название кампании: '))\n",
    "index = 0\n",
    "while index < len(stats):\n",
    "    if date == stats[index][0] and campaign == stats[index][1]:\n",
    "        print(stats[index][2])\n",
    "        break\n",
    "    else:\n",
    "        index +=1"
   ]
  },
  {
   "cell_type": "code",
   "execution_count": 117,
   "metadata": {},
   "outputs": [
    {
     "name": "stdout",
     "output_type": "stream",
     "text": [
      "100\n"
     ]
    }
   ],
   "source": [
    "data = [\n",
    "    [20, 25, 23, 34, 56],\n",
    "    [45, 20, 44, 47, 32],\n",
    "    [12, 33, 20, 95, 45],\n",
    "    [13, 53, 34, 20, 12],\n",
    "    [13, 53, 34, 35, 20]\n",
    "]\n",
    "index = 0\n",
    "diagonal_sum = 0\n",
    "while index < len(data):\n",
    "    diagonal_sum += data[index][index]\n",
    "    index += 1\n",
    "print(diagonal_sum)"
   ]
  }
 ],
 "metadata": {
  "kernelspec": {
   "display_name": "Python 3",
   "language": "python",
   "name": "python3"
  },
  "language_info": {
   "codemirror_mode": {
    "name": "ipython",
    "version": 3
   },
   "file_extension": ".py",
   "mimetype": "text/x-python",
   "name": "python",
   "nbconvert_exporter": "python",
   "pygments_lexer": "ipython3",
   "version": "3.7.6"
  }
 },
 "nbformat": 4,
 "nbformat_minor": 4
}
