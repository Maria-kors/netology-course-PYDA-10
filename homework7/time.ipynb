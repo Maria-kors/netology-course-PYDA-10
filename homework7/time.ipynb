{
 "cells": [
  {
   "cell_type": "markdown",
   "metadata": {},
   "source": [
    "# Задание 1\n"
   ]
  },
  {
   "cell_type": "code",
   "execution_count": 6,
   "metadata": {},
   "outputs": [
    {
     "data": {
      "text/plain": [
       "datetime.datetime(1977, 8, 18, 0, 0)"
      ]
     },
     "execution_count": 6,
     "metadata": {},
     "output_type": "execute_result"
    }
   ],
   "source": [
    "from datetime import datetime, timedelta\n",
    "#The Moscow Times - Wednesday, October 2, 2002\n",
    "#The Guardian - Friday, 11.10.13\n",
    "#Daily News - Thursday, 18 August 1977\n",
    "datetime.strptime('Wednesday, October 2, 2002', '%A, %B %d, %Y')\n",
    "datetime.strptime('Friday, 11.10.13', '%A, %d.%m.%y')\n",
    "datetime.strptime('Thursday, 18 August 1977', '%A, %d %B %Y')"
   ]
  },
  {
   "cell_type": "markdown",
   "metadata": {},
   "source": [
    "# Задание 2"
   ]
  },
  {
   "cell_type": "code",
   "execution_count": 7,
   "metadata": {},
   "outputs": [
    {
     "name": "stdout",
     "output_type": "stream",
     "text": [
      "True\n",
      "False\n",
      "False\n"
     ]
    }
   ],
   "source": [
    "def correct_date(result=True):\n",
    "    stream = ['2018-04-02','2018-02-29','2018-19-02']\n",
    "    for element in stream:\n",
    "        try:\n",
    "            datetime.strptime(element, '%Y-%m-%d')\n",
    "        except:\n",
    "            result=False\n",
    "        print(result)\n",
    "        result=True\n",
    "correct_date()"
   ]
  },
  {
   "cell_type": "markdown",
   "metadata": {},
   "source": [
    "# Задание 3"
   ]
  },
  {
   "cell_type": "code",
   "execution_count": 8,
   "metadata": {},
   "outputs": [
    {
     "name": "stdout",
     "output_type": "stream",
     "text": [
      "Введите начальную дату в формате YYYY-MM-DD 2020-06-01\n",
      "Введите конечную дату в формате YYYY-MM-DD 2020-06-07\n",
      "2020-06-02 00:00:00\n",
      "2020-06-03 00:00:00\n",
      "2020-06-04 00:00:00\n",
      "2020-06-05 00:00:00\n",
      "2020-06-06 00:00:00\n",
      "2020-06-07 00:00:00\n"
     ]
    }
   ],
   "source": [
    "def date_range(start_date, end_date, a = []):\n",
    "    if start_date < end_date:\n",
    "        try:\n",
    "            start_date = datetime.strptime(start_date, '%Y-%m-%d') \n",
    "            end_date = datetime.strptime(end_date, '%Y-%m-%d')\n",
    "            while start_date < end_date:\n",
    "                start_date = start_date + timedelta(days=1) \n",
    "                print(start_date)\n",
    "        except:\n",
    "            print(a)\n",
    "    else:\n",
    "        print(a)\n",
    "date_range(input('Введите начальную дату в формате YYYY-MM-DD '), input('Введите конечную дату в формате YYYY-MM-DD '))\n"
   ]
  },
  {
   "cell_type": "code",
   "execution_count": null,
   "metadata": {},
   "outputs": [],
   "source": []
  }
 ],
 "metadata": {
  "kernelspec": {
   "display_name": "Python 3",
   "language": "python",
   "name": "python3"
  },
  "language_info": {
   "codemirror_mode": {
    "name": "ipython",
    "version": 3
   },
   "file_extension": ".py",
   "mimetype": "text/x-python",
   "name": "python",
   "nbconvert_exporter": "python",
   "pygments_lexer": "ipython3",
   "version": "3.7.6"
  }
 },
 "nbformat": 4,
 "nbformat_minor": 4
}
