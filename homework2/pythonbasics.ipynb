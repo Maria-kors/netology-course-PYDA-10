{
 "cells": [
  {
   "cell_type": "code",
   "execution_count": null,
   "metadata": {},
   "outputs": [],
   "source": [
    "long_phrase = 'Насколько проще было бы писать программы, если бы не заказчики'\n",
    "short_phrase = '640Кб должно хватить для любых задач. Билл Гейтс (по легенде)'\n",
    "if len (long_phrase) > len (short_phrase):\n",
    "    print ('True')\n",
    "else:\n",
    "        print ('False')"
   ]
  },
  {
   "cell_type": "code",
   "execution_count": null,
   "metadata": {},
   "outputs": [],
   "source": [
    "input_bites = int(input('Введите число байт'))\n",
    "megabites = 2**20 * input_bites \n",
    "print ('Объем файла равен', megabites, 'байт')"
   ]
  },
  {
   "cell_type": "code",
   "execution_count": 3,
   "metadata": {},
   "outputs": [
    {
     "name": "stdout",
     "output_type": "stream",
     "text": [
      "Введите месяц май\n",
      "Введите день 16\n",
      "Телец\n"
     ]
    }
   ],
   "source": [
    "input_month = input('Введите месяц ')\n",
    "input_date = int(input('Введите день '))\n",
    "if input_month == 'январь' and input_date <=20 or input_month == 'декабрь' and input_date >= 22:\n",
    "    print('Козерог')\n",
    "elif input_month == 'январь' and input_date >=21 or input_month == 'февраль' and input_date <= 19:\n",
    "    print('Водолей')\n",
    "elif input_month == 'февраль' and input_date >=20 or input_month == 'март' and input_date <= 20:\n",
    "    print('Рыбы')\n",
    "elif input_month == 'март' and input_date >=21 or input_month == 'апрель' and input_date <= 20:\n",
    "    print('Овен')  \n",
    "elif input_month == 'апрель' and input_date >=21 or input_month == 'май' and input_date <= 20:\n",
    "    print('Телец')\n",
    "elif input_month == 'май' and input_date >=21 or input_month == 'июнь' and input_date <= 20:\n",
    "    print('Близнецы')\n",
    "elif input_month == 'июнь' and input_date >=21 or input_month == 'июль' and input_date <= 22:\n",
    "    print('Рак')\n",
    "elif input_month == 'июль' and input_date >=23 or input_month == 'август' and input_date <= 22:\n",
    "    print('Лев')\n",
    "elif input_month == 'август' and input_date >=23 or input_month == 'сентябрь' and input_date <= 23:\n",
    "    print('Дева')\n",
    "elif input_month == 'сентябрь' and input_date >=24 or input_month == 'октябрь' and input_date <= 23:\n",
    "    print('Весы')\n",
    "elif input_month == 'октябрь' and input_date >=24 or input_month == 'ноябрь' and input_date <= 21:\n",
    "    print('Скорпион')\n",
    "elif input_month == 'ноябрь' and input_date >=22 or input_month == 'декабрь' and input_date <= 21:\n",
    "    print('Стрелец')"
   ]
  },
  {
   "cell_type": "code",
   "execution_count": 7,
   "metadata": {},
   "outputs": [
    {
     "name": "stdout",
     "output_type": "stream",
     "text": [
      "Введите заработную плату 1000\n",
      "Введите процент зп, уходящий на ипотеку 30\n",
      "Введите процент зп, уходящий на жизнь 50\n",
      "Введите количество премий 2\n",
      "На ипотеку было потрачено: 3600.0  Было накоплено: 3400.0\n"
     ]
    }
   ],
   "source": [
    "input_salary=int(input('Введите заработную плату '))\n",
    "input_mortgage_percent=int(input('Введите процент зп, уходящий на ипотеку '))\n",
    "input_spending_percent=int(input('Введите процент зп, уходящий на жизнь '))\n",
    "input_bonus_amount=int(input('Введите количество премий '))\n",
    "year_savings = 12 * input_salary * (100 - input_mortgage_percent - input_spending_percent)/100 + 0.5 * input_salary * input_bonus_amount\n",
    "mortgage_spending = 12 * input_salary * input_mortgage_percent/100\n",
    "print ('На ипотеку было потрачено:', mortgage_spending, ' Было накоплено:', year_savings)"
   ]
  },
  {
   "cell_type": "code",
   "execution_count": null,
   "metadata": {},
   "outputs": [],
   "source": []
  }
 ],
 "metadata": {
  "kernelspec": {
   "display_name": "Python 3",
   "language": "python",
   "name": "python3"
  }
 },
 "nbformat": 4,
 "nbformat_minor": 4
}
