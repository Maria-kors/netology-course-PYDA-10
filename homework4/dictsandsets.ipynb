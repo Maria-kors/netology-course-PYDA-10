{
 "cells": [
  {
   "cell_type": "code",
   "execution_count": 1,
   "metadata": {},
   "outputs": [
    {
     "name": "stdout",
     "output_type": "stream",
     "text": [
      "{'visit1': ['Москва', 'Россия']}\n",
      "{'visit3': ['Владимир', 'Россия']}\n",
      "{'visit7': ['Тула', 'Россия']}\n",
      "{'visit8': ['Тула', 'Россия']}\n",
      "{'visit9': ['Курск', 'Россия']}\n",
      "{'visit10': ['Архангельск', 'Россия']}\n"
     ]
    }
   ],
   "source": [
    "geo_logs = [\n",
    "    {'visit1': ['Москва', 'Россия']},\n",
    "    {'visit2': ['Дели', 'Индия']},\n",
    "    {'visit3': ['Владимир', 'Россия']},\n",
    "    {'visit4': ['Лиссабон', 'Португалия']},\n",
    "    {'visit5': ['Париж', 'Франция']},\n",
    "    {'visit6': ['Лиссабон', 'Португалия']},\n",
    "    {'visit7': ['Тула', 'Россия']},\n",
    "    {'visit8': ['Тула', 'Россия']},\n",
    "    {'visit9': ['Курск', 'Россия']},\n",
    "    {'visit10': ['Архангельск', 'Россия']}\n",
    " ]\n",
    "index = 0\n",
    "while index < len(geo_logs):\n",
    "    for visit in geo_logs[index]:\n",
    "        if 'Россия' in geo_logs[index][visit]:\n",
    "            print(geo_logs[index])\n",
    "    index +=1"
   ]
  },
  {
   "cell_type": "code",
   "execution_count": null,
   "metadata": {},
   "outputs": [],
   "source": [
    "ids = {'user1': [213, 213, 213, 15, 213], \n",
    "       'user2': [54, 54, 119, 119, 119], \n",
    "       'user3': [213, 98, 98, 35]}\n",
    "result = []\n",
    "for user in ids:\n",
    "  result += ids[user]\n",
    "print(set(result))\n"
   ]
  },
  {
   "cell_type": "code",
   "execution_count": 2,
   "metadata": {},
   "outputs": [
    {
     "name": "stdout",
     "output_type": "stream",
     "text": [
      "Запросов из 8 слов: 11.11111111111111 %\n",
      "Запросов из 1 слов: 11.11111111111111 %\n",
      "Запросов из 2 слов: 33.33333333333333 %\n",
      "Запросов из 3 слов: 44.44444444444444 %\n"
     ]
    }
   ],
   "source": [
    "queries = [\n",
    "    'смотреть сериалы онлайн',\n",
    "    'новости спорта',\n",
    "    'афиша кино',\n",
    "    'курс доллара',\n",
    "    'сериалы этим летом',\n",
    "    'курс по питону',\n",
    "    'сериалы про спорт',\n",
    "    'f',\n",
    "    'f g g h t h j jt'\n",
    "]\n",
    "word_amount = []\n",
    "for element in queries:\n",
    "    word_amount.append(list(element).count(' ')+1)\n",
    "varieties = list(set(word_amount))\n",
    "for element in varieties:\n",
    "    print('Запросов из', element, 'слов:', word_amount.count(element)/len(word_amount)*100, '%')"
   ]
  },
  {
   "cell_type": "code",
   "execution_count": null,
   "metadata": {},
   "outputs": [],
   "source": [
    "stats = {'facebook': 55, 'yandex': 120, 'vk': 115, 'google': 99, 'email': 42, 'ok': 98}\n",
    "max_value = 0\n",
    "for el in stats:\n",
    "    if stats[el] > max_value:\n",
    "        max_value = stats[el]\n",
    "for el in stats:\n",
    "    if stats[el] == max_value:\n",
    "        print(el)"
   ]
  },
  {
   "cell_type": "code",
   "execution_count": 3,
   "metadata": {},
   "outputs": [
    {
     "data": {
      "text/plain": [
       "{'2018-01-01': {'yandex': {'cpc': 100}}}"
      ]
     },
     "execution_count": 3,
     "metadata": {},
     "output_type": "execute_result"
    }
   ],
   "source": [
    "start = ['2018-01-01','yandex','cpc', 100] \n",
    "index = 0\n",
    "counter = len(start)-2\n",
    "new_dict = {start[-2]:start[-1]}\n",
    "while index < counter:\n",
    "    start.remove(start[-1])\n",
    "    new_dict = {start[-2]:new_dict}\n",
    "    index +=1\n",
    "new_dict"
   ]
  }
 ],
 "metadata": {
  "kernelspec": {
   "display_name": "Python 3",
   "language": "python",
   "name": "python3"
  },
  "language_info": {
   "codemirror_mode": {
    "name": "ipython",
    "version": 3
   },
   "file_extension": ".py",
   "mimetype": "text/x-python",
   "name": "python",
   "nbconvert_exporter": "python",
   "pygments_lexer": "ipython3",
   "version": "3.7.6"
  }
 },
 "nbformat": 4,
 "nbformat_minor": 4
}
