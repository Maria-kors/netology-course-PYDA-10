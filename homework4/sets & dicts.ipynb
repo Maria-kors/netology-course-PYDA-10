{
 "cells": [
  {
   "cell_type": "code",
   "execution_count": 66,
   "metadata": {},
   "outputs": [
    {
     "name": "stdout",
     "output_type": "stream",
     "text": [
      "{'visit1': ['Москва', 'Россия']}\n",
      "{'visit3': ['Владимир', 'Россия']}\n",
      "{'visit7': ['Тула', 'Россия']}\n",
      "{'visit8': ['Тула', 'Россия']}\n",
      "{'visit9': ['Курск', 'Россия']}\n",
      "{'visit10': ['Архангельск', 'Россия']}\n"
     ]
    }
   ],
   "source": [
    "geo_logs = [\n",
    "    {'visit1': ['Москва', 'Россия']},\n",
    "    {'visit2': ['Дели', 'Индия']},\n",
    "    {'visit3': ['Владимир', 'Россия']},\n",
    "    {'visit4': ['Лиссабон', 'Португалия']},\n",
    "    {'visit5': ['Париж', 'Франция']},\n",
    "    {'visit6': ['Лиссабон', 'Португалия']},\n",
    "    {'visit7': ['Тула', 'Россия']},\n",
    "    {'visit8': ['Тула', 'Россия']},\n",
    "    {'visit9': ['Курск', 'Россия']},\n",
    "    {'visit10': ['Архангельск', 'Россия']}\n",
    " ]\n",
    "index = 0\n",
    "while index < len(geo_logs):\n",
    "    for visit in geo_logs[index]:\n",
    "        if 'Россия' in geo_logs[index][visit]:\n",
    "            print(geo_logs[index])\n",
    "    index +=1     "
   ]
  },
  {
   "cell_type": "code",
   "execution_count": 92,
   "metadata": {},
   "outputs": [
    {
     "name": "stdout",
     "output_type": "stream",
     "text": [
      "{98, 35, 15, 213, 54, 119}\n"
     ]
    }
   ],
   "source": [
    "ids = {'user1': [213, 213, 213, 15, 213], \n",
    "       'user2': [54, 54, 119, 119, 119], \n",
    "       'user3': [213, 98, 98, 35]}\n",
    "result = []\n",
    "for user in ids:\n",
    "  result += ids[user]\n",
    "print(set(result))\n"
   ]
  },
  {
   "cell_type": "code",
   "execution_count": 124,
   "metadata": {},
   "outputs": [
    {
     "name": "stdout",
     "output_type": "stream",
     "text": [
      "Поисковых запросов из одного слова: 0.0 % Поисковых запросов из двух слов 42.857142857142854 % Поисковых запросов из трех слов: 57.14285714285714 %\n"
     ]
    }
   ],
   "source": [
    "queries = [\n",
    "    'смотреть сериалы онлайн',\n",
    "    'новости спорта',\n",
    "    'афиша кино',\n",
    "    'курс доллара',\n",
    "    'сериалы этим летом',\n",
    "    'курс по питону',\n",
    "    'сериалы про спорт',\n",
    "]\n",
    "one_word = 0\n",
    "two_words = 0\n",
    "three_words = 0\n",
    "index = 0\n",
    "while index < len(queries):\n",
    "    if list(queries[index]).count(' ') == 0:\n",
    "        one_word +=1\n",
    "    elif list(queries[index]).count(' ') == 1:\n",
    "        two_words +=1\n",
    "    elif list(queries[index]).count(' ') == 2:\n",
    "        three_words +=1\n",
    "    index +=1\n",
    "print('Поисковых запросов из одного слова:', one_word/len(queries)*100, '%',\n",
    "      'Поисковых запросов из двух слов', two_words/len(queries)*100, '%',\n",
    "      'Поисковых запросов из трех слов:', three_words/len(queries)*100,'%')"
   ]
  },
  {
   "cell_type": "code",
   "execution_count": 101,
   "metadata": {},
   "outputs": [
    {
     "name": "stdout",
     "output_type": "stream",
     "text": [
      "yandex\n"
     ]
    }
   ],
   "source": [
    "stats = {'facebook': 55, 'yandex': 120, 'vk': 115, 'google': 99, 'email': 42, 'ok': 98}\n",
    "max = 0\n",
    "for el in stats:\n",
    "    if stats[el] > max:\n",
    "        max = stats[el]\n",
    "for el in stats:\n",
    "    if stats[el] == max:\n",
    "        print(el)"
   ]
  },
  {
   "cell_type": "code",
   "execution_count": 168,
   "metadata": {},
   "outputs": [
    {
     "data": {
      "text/plain": [
       "{'2018-01-01': {'yandex': {'cpc': 100}}}"
      ]
     },
     "execution_count": 168,
     "metadata": {},
     "output_type": "execute_result"
    }
   ],
   "source": [
    "start = ['2018-01-01', 'yandex', 'cpc', 100] \n",
    "index = len(start)-1\n",
    "old_dict = {start[index-1]:start[index]}\n",
    "while index - 3 >= 0:\n",
    "    old_dict = {start[index-2]:old_dict}\n",
    "    new_dict = {start[index-3]:old_dict}\n",
    "    index -=1\n",
    "new_dict"
   ]
  }
 ],
 "metadata": {
  "kernelspec": {
   "display_name": "Python 3",
   "language": "python",
   "name": "python3"
  },
  "language_info": {
   "codemirror_mode": {
    "name": "ipython",
    "version": 3
   },
   "file_extension": ".py",
   "mimetype": "text/x-python",
   "name": "python",
   "nbconvert_exporter": "python",
   "pygments_lexer": "ipython3",
   "version": "3.7.6"
  }
 },
 "nbformat": 4,
 "nbformat_minor": 4
}
